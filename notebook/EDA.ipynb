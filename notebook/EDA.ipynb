{
 "cells": [
  {
   "cell_type": "code",
   "execution_count": null,
   "metadata": {},
   "outputs": [
    {
     "name": "stderr",
     "output_type": "stream",
     "text": [
      "ERROR:kafka.conn:Connect attempt to <BrokerConnection node_id=bootstrap-0 host=localhost:9092 <connecting> [IPv4 ('127.0.0.1', 9092)]> returned error 111. Disconnecting.\n",
      "ERROR:kafka.conn:Connect attempt to <BrokerConnection node_id=bootstrap-0 host=localhost:9092 <connecting> [IPv4 ('127.0.0.1', 9092)]> returned error 111. Disconnecting.\n",
      "ERROR:root:Erreur lors de l'initialisation du consumer Kafka: NoBrokersAvailable\n"
     ]
    },
    {
     "name": "stdout",
     "output_type": "stream",
     "text": [
      "Kafka Topic: my-topic, Kafka Servers: ['localhost:9092']\n"
     ]
    }
   ],
   "source": [
    "import json\n",
    "import pandas as pd\n",
    "from kafka import KafkaConsumer\n",
    "\n",
    "# Configuration du consumer Kafka\n",
    "TOPIC_NAME = 'my-topic'\n",
    "KAFKA_SERVERS = ['localhost:9092']\n",
    "\n",
    "# Initialisation du consumer Kafka\n",
    "consumer = KafkaConsumer(\n",
    "    TOPIC_NAME,\n",
    "    bootstrap_servers=KAFKA_SERVERS,\n",
    "    value_deserializer=lambda m: json.loads(m.decode('utf-8'))\n",
    ")\n",
    "\n",
    "# Liste pour stocker les messages Kafka\n",
    "data = []\n",
    "\n",
    "# Consommation des messages de Kafka\n",
    "try:\n",
    "    print(\"Consommation des messages...\")\n",
    "    for message in consumer:\n",
    "        data.append(message.value)\n",
    "\n",
    "        # Pour éviter de consommer trop de messages à la fois, nous pouvons nous arrêter après 100 messages\n",
    "        if len(data) >= 100:\n",
    "            break\n",
    "except KeyboardInterrupt:\n",
    "    print(\"Consommation arrêtée.\")\n",
    "\n",
    "# Conversion des données en DataFrame Pandas\n",
    "df = pd.DataFrame(data)\n",
    "\n",
    "# Sauvegarde des données dans un fichier CSV\n",
    "df.to_csv('kafka_reviews.csv', index=False)\n",
    "\n",
    "print(\"Les données ont été enregistrées dans 'kafka_reviews.csv'\")\n"
   ]
  }
 ],
 "metadata": {
  "kernelspec": {
   "display_name": "ENV",
   "language": "python",
   "name": "python3"
  },
  "language_info": {
   "codemirror_mode": {
    "name": "ipython",
    "version": 3
   },
   "file_extension": ".py",
   "mimetype": "text/x-python",
   "name": "python",
   "nbconvert_exporter": "python",
   "pygments_lexer": "ipython3",
   "version": "3.10.12"
  }
 },
 "nbformat": 4,
 "nbformat_minor": 2
}
